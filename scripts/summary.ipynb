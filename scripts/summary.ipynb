{
 "cells": [
  {
   "cell_type": "code",
   "execution_count": 12,
   "metadata": {},
   "outputs": [
    {
     "data": {
      "text/html": [
       "<div>\n",
       "<style scoped>\n",
       "    .dataframe tbody tr th:only-of-type {\n",
       "        vertical-align: middle;\n",
       "    }\n",
       "\n",
       "    .dataframe tbody tr th {\n",
       "        vertical-align: top;\n",
       "    }\n",
       "\n",
       "    .dataframe thead th {\n",
       "        text-align: right;\n",
       "    }\n",
       "</style>\n",
       "<table border=\"1\" class=\"dataframe\">\n",
       "  <thead>\n",
       "    <tr style=\"text-align: right;\">\n",
       "      <th></th>\n",
       "      <th>res</th>\n",
       "      <th>fam</th>\n",
       "      <th>f1_train</th>\n",
       "      <th>f1</th>\n",
       "      <th>f1_shift</th>\n",
       "      <th>f1_post</th>\n",
       "    </tr>\n",
       "  </thead>\n",
       "  <tbody>\n",
       "    <tr>\n",
       "      <th>0</th>\n",
       "      <td>results_one-hot_ArchiveII_famfold</td>\n",
       "      <td>5s</td>\n",
       "      <td>0.459080</td>\n",
       "      <td>0.282241</td>\n",
       "      <td>0.292204</td>\n",
       "      <td>0.289757</td>\n",
       "    </tr>\n",
       "    <tr>\n",
       "      <th>1</th>\n",
       "      <td>results_one-hot_ArchiveII_famfold</td>\n",
       "      <td>srp</td>\n",
       "      <td>0.566723</td>\n",
       "      <td>0.174403</td>\n",
       "      <td>0.190786</td>\n",
       "      <td>0.179883</td>\n",
       "    </tr>\n",
       "    <tr>\n",
       "      <th>2</th>\n",
       "      <td>results_one-hot_ArchiveII_famfold</td>\n",
       "      <td>tmRNA</td>\n",
       "      <td>0.556027</td>\n",
       "      <td>0.162696</td>\n",
       "      <td>0.201708</td>\n",
       "      <td>0.198150</td>\n",
       "    </tr>\n",
       "    <tr>\n",
       "      <th>3</th>\n",
       "      <td>results_one-hot_ArchiveII_famfold</td>\n",
       "      <td>tRNA</td>\n",
       "      <td>0.532593</td>\n",
       "      <td>0.448521</td>\n",
       "      <td>0.469034</td>\n",
       "      <td>0.459947</td>\n",
       "    </tr>\n",
       "  </tbody>\n",
       "</table>\n",
       "</div>"
      ],
      "text/plain": [
       "                                 res    fam  f1_train        f1  f1_shift  \\\n",
       "0  results_one-hot_ArchiveII_famfold     5s  0.459080  0.282241  0.292204   \n",
       "1  results_one-hot_ArchiveII_famfold    srp  0.566723  0.174403  0.190786   \n",
       "2  results_one-hot_ArchiveII_famfold  tmRNA  0.556027  0.162696  0.201708   \n",
       "3  results_one-hot_ArchiveII_famfold   tRNA  0.532593  0.448521  0.469034   \n",
       "\n",
       "    f1_post  \n",
       "0  0.289757  \n",
       "1  0.179883  \n",
       "2  0.198150  \n",
       "3  0.459947  "
      ]
     },
     "execution_count": 12,
     "metadata": {},
     "output_type": "execute_result"
    }
   ],
   "source": [
    "import pandas as pd \n",
    "import os \n",
    "\n",
    "# famfold\n",
    "summary = []\n",
    "for res in os.listdir(\"../\"):\n",
    "    if \"results_\" in res:\n",
    "        path = os.path.join(\"../\", res)\n",
    "        for fam in os.listdir(path):\n",
    "            try: \n",
    "                df = pd.read_csv(os.path.join(path, fam, \"metrics.csv\"))\n",
    "            except FileNotFoundError:\n",
    "                continue\n",
    "            f1, f1_shift, f1_post = df[\"test_f1\"].iloc[-1], df[\"test_f1_shift\"].iloc[-1], df[\"test_f1_post_rinalmo\"].iloc[-1]\n",
    "            f1_train = df[\"train_f1\"].iloc[-1]\n",
    "            summary.append([res, fam, f1_train, f1, f1_shift, f1_post])\n",
    "\n",
    "summary = pd.DataFrame(summary, columns=[\"res\", \"fam\", \"f1_train\", \"f1\", \"f1_shift\", \"f1_post\"])\n",
    "summary"
   ]
  },
  {
   "cell_type": "code",
   "execution_count": 9,
   "metadata": {},
   "outputs": [
    {
     "data": {
      "text/plain": [
       "0.2822412038431907"
      ]
     },
     "execution_count": 9,
     "metadata": {},
     "output_type": "execute_result"
    }
   ],
   "source": [
    "df[\"test_f1\"].iloc[-1]"
   ]
  }
 ],
 "metadata": {
  "kernelspec": {
   "display_name": "rna-llm",
   "language": "python",
   "name": "python3"
  },
  "language_info": {
   "codemirror_mode": {
    "name": "ipython",
    "version": 3
   },
   "file_extension": ".py",
   "mimetype": "text/x-python",
   "name": "python",
   "nbconvert_exporter": "python",
   "pygments_lexer": "ipython3",
   "version": "3.11.8"
  }
 },
 "nbformat": 4,
 "nbformat_minor": 2
}
